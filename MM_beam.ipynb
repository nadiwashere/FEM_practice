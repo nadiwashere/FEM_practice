{
  "nbformat": 4,
  "nbformat_minor": 0,
  "metadata": {
    "colab": {
      "name": "MM_beam.ipynb",
      "provenance": [],
      "collapsed_sections": []
    },
    "kernelspec": {
      "name": "python3",
      "display_name": "Python 3"
    },
    "language_info": {
      "name": "python"
    }
  },
  "cells": [
    {
      "cell_type": "code",
      "source": [
        "import math"
      ],
      "metadata": {
        "id": "5XwVPLbkfQHP"
      },
      "execution_count": 75,
      "outputs": []
    },
    {
      "cell_type": "code",
      "execution_count": 76,
      "metadata": {
        "id": "hDmDH2cwS-UM"
      },
      "outputs": [],
      "source": [
        "load = 50\n",
        "length = 100\n",
        "E = 0.736*(10**7)\n",
        "h = 7\n",
        "nu = 0.32\n",
        "gamma = 0.5"
      ]
    },
    {
      "cell_type": "code",
      "source": [
        "N = 100"
      ],
      "metadata": {
        "id": "JvU5lbCmTDTQ"
      },
      "execution_count": 77,
      "outputs": []
    },
    {
      "cell_type": "code",
      "source": [
        "w = []\n",
        "sum = 0"
      ],
      "metadata": {
        "id": "5DDd3cpRWeOt"
      },
      "execution_count": 78,
      "outputs": []
    },
    {
      "cell_type": "code",
      "source": [
        "big_thing = ((((gamma**2)*E*h)/(1+nu)+(E*(h**3))/12)**(-1))*(-2*(length**4)*load)"
      ],
      "metadata": {
        "id": "CL7eKJHhTDWe"
      },
      "execution_count": 32,
      "outputs": []
    },
    {
      "cell_type": "code",
      "source": [
        "for i in range(1, N):\n",
        "  sum += (1-math.cos(2*math.pi*i*50/length))*((2*math.pi*i)**(-1))\n",
        "  w.append(sum*big_thing)"
      ],
      "metadata": {
        "id": "n-xz5rFsTDZR"
      },
      "execution_count": 68,
      "outputs": []
    },
    {
      "cell_type": "code",
      "source": [
        "w"
      ],
      "metadata": {
        "id": "ut0p7aFbjExN"
      },
      "execution_count": null,
      "outputs": []
    },
    {
      "cell_type": "code",
      "source": [
        "loss = []"
      ],
      "metadata": {
        "id": "kbVfM6wugQYv"
      },
      "execution_count": 70,
      "outputs": []
    },
    {
      "cell_type": "code",
      "source": [
        "for i in range (1,N-1):\n",
        "  loss.append(w[i]-w[i-1])"
      ],
      "metadata": {
        "id": "lC2TCLOhTDbu"
      },
      "execution_count": 71,
      "outputs": []
    },
    {
      "cell_type": "code",
      "source": [
        "loss"
      ],
      "metadata": {
        "id": "JxF5a8_5ixrl"
      },
      "execution_count": null,
      "outputs": []
    },
    {
      "cell_type": "code",
      "source": [
        "import matplotlib.pyplot as plt\n",
        "%matplotlib inline\n",
        "import numpy as np\n",
        "\n",
        "\n",
        "plt.figure(figsize=(10, 8))\n",
        "plt.bar(range(1,N-1), loss)\n",
        "plt.show()"
      ],
      "metadata": {
        "colab": {
          "base_uri": "https://localhost:8080/",
          "height": 483
        },
        "id": "qiARlIpKTDeO",
        "outputId": "4a514986-7892-46a6-9300-f206b46063b8"
      },
      "execution_count": 73,
      "outputs": [
        {
          "output_type": "display_data",
          "data": {
            "image/png": "[encoded data removed]",
            "text/plain": [
              "<Figure size 720x576 with 1 Axes>"
            ]
          },
          "metadata": {
            "needs_background": "light"
          }
        }
      ]
    }
  ]
}