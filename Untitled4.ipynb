{
  "nbformat": 4,
  "nbformat_minor": 0,
  "metadata": {
    "colab": {
      "name": "Untitled4.ipynb",
      "provenance": [],
      "authorship_tag": "ABX9TyNKeqMN/HIvV7q5/Rz8NEjw",
      "include_colab_link": true
    },
    "kernelspec": {
      "name": "python3",
      "display_name": "Python 3"
    },
    "language_info": {
      "name": "python"
    }
  },
  "cells": [
    {
      "cell_type": "markdown",
      "metadata": {
        "id": "view-in-github",
        "colab_type": "text"
      },
      "source": [
        "<a href=\"https://colab.research.google.com/github/nadiwashere/FEM_practice/blob/main/Untitled4.ipynb\" target=\"_parent\"><img src=\"https://colab.research.google.com/assets/colab-badge.svg\" alt=\"Open In Colab\"/></a>"
      ]
    },
    {
      "cell_type": "code",
      "execution_count": 1,
      "metadata": {
        "id": "AH83hSHeLMmX"
      },
      "outputs": [],
      "source": [
        "import pandas as pd\n",
        "from matplotlib import pyplot as plt"
      ]
    },
    {
      "cell_type": "code",
      "source": [
        "sigmax_1 = pd.read_excel('')\n",
        "sigmax_2 = pd.read_excel('')\n",
        "sigmax_3 = pd.read_excel('')\n",
        "sigmaz_1 = pd.read_excel('')\n",
        "sigmaz_2 = pd.read_excel('')\n",
        "sigmaz_3 = pd.read_excel('')\n",
        "sigmaxz_1 = pd.read_excel('')\n",
        "sigmaxz_2 = pd.read_excel('')\n",
        "sigmaxz_3 = pd.read_excel('')\n",
        "dic_1 = pd.read_excel('')\n",
        "dic_2 = pd.read_excel('')\n",
        "dic_3 = pd.read_excel('')"
      ],
      "metadata": {
        "id": "Wt4ghc6JMAaN"
      },
      "execution_count": null,
      "outputs": []
    },
    {
      "cell_type": "code",
      "source": [
        "test.columns"
      ],
      "metadata": {
        "colab": {
          "base_uri": "https://localhost:8080/"
        },
        "id": "UO6I4n2GQTrT",
        "outputId": "1227530a-ac33-402d-bd73-28e6a2202ba3"
      },
      "execution_count": 5,
      "outputs": [
        {
          "output_type": "execute_result",
          "data": {
            "text/plain": [
              "Index(['Node Number', 'X Location (m)', 'Y Location (m)', 'Z Location (m)',\n",
              "       'Normal Stress (Pa)'],\n",
              "      dtype='object')"
            ]
          },
          "metadata": {},
          "execution_count": 5
        }
      ]
    },
    {
      "cell_type": "code",
      "source": [
        "test['X Location (m)'].unique()"
      ],
      "metadata": {
        "id": "SQrjvOjeTeu0"
      },
      "execution_count": null,
      "outputs": []
    },
    {
      "cell_type": "code",
      "source": [
        "sigmax_1 = sigmax_1.loc[sigmax_1['Y Location (m)'] == 0].sort_values(by=['X Location (m)'])\n",
        "sigmax_2 = sigmax_2.loc[sigmax_2['Y Location (m)'] == 0].sort_values(by=['X Location (m)'])\n",
        "sigmax_3 = sigmax_3.loc[sigmax_3['Y Location (m)'] == 0].sort_values(by=['X Location (m)'])\n",
        "sigmaz_1 = sigmaz_1.loc[sigmaz_1['Y Location (m)'] == 0].sort_values(by=['X Location (m)'])\n",
        "sigmaz_2 = sigmaz_2.loc[sigmaz_2['Y Location (m)'] == 0].sort_values(by=['X Location (m)'])\n",
        "sigmaz_3 = sigmaz_3.loc[sigmaz_3['Y Location (m)'] == 0].sort_values(by=['X Location (m)'])\n",
        "sigmaxz_1 = sigmaxz_1.loc[sigmaxz_1['Y Location (m)'] == 0].sort_values(by=['X Location (m)'])\n",
        "sigmaxz_2 = sigmaxz_2.loc[sigmaxz_2['Y Location (m)'] == 0].sort_values(by=['X Location (m)'])\n",
        "sigmaxz_3 = sigmaxz_3.loc[sigmaxz_3['Y Location (m)'] == 0].sort_values(by=['X Location (m)'])\n",
        "dic_1 = dic_1.loc[dic_1['Y Location (m)'] == 0].sort_values(by=['X Location (m)'])\n",
        "dic_2 = dic_2.loc[dic_2['Y Location (m)'] == 0].sort_values(by=['X Location (m)'])\n",
        "dic_3 = dic_3.loc[dic_3['Y Location (m)'] == 0].sort_values(by=['X Location (m)'])"
      ],
      "metadata": {
        "id": "y3DsBGhEafRC"
      },
      "execution_count": null,
      "outputs": []
    },
    {
      "cell_type": "markdown",
      "source": [
        "**Сеточная сходимость**"
      ],
      "metadata": {
        "id": "g_oVmvK5fhtj"
      }
    },
    {
      "cell_type": "code",
      "source": [
        "plt.figure(figsize=(11, 11))\n",
        "\n",
        "plt.subplot(2, 2, 1)\n",
        "plt.plot(dic_1['X Location (m)'], dic_1[2], '-', label='0.01')\n",
        "plt.plot(dic_2['X Location (m)'], dic_2[4], '--', label='0.001')\n",
        "plt.plot(dic_3['X Location (m)'], dic_3[6], '-.', label='0.0005')\n",
        "plt.legend()\n",
        "plt.title(r\"Абсолютное перемещение\")\n",
        "plt.xlabel('x, м', fontsize=14)\n",
        "plt.ylabel(r\"u, м\", fontsize=14)\n",
        "plt.xlim([0.1,0.2])\n",
        "plt.ticklabel_format(axis=\"y\", style=\"sci\", scilimits=(0,0))\n",
        "\n",
        "\n",
        "plt.subplot(2, 2, 2)\n",
        "plt.plot(sigmax_1['X Location (m)'], sigmax_1['Normal Stress (Pa)'], '-', label='0.01')\n",
        "plt.plot(sigmax_2['X Location (m)'], sigmax_2['Normal Stress (Pa)'], '--', label='0.001')\n",
        "plt.plot(sigmax_3['X Location (m)'], sigmax_3['Normal Stress (Pa)'], '-.', label='0.0005')\n",
        "plt.legend()\n",
        "plt.title(r\"Нормальное напряжение $\\sigma_x$\")\n",
        "plt.xlabel('x, м', fontsize=14)\n",
        "plt.ylabel(r'$\\sigma_x$, Па', fontsize=14)\n",
        "plt.xlim([0.1,0.2])\n",
        "plt.ticklabel_format(axis=\"y\", style=\"sci\", scilimits=(0,0))\n",
        "\n",
        "plt.subplot(2, 2, 3)\n",
        "plt.plot(sigmaz_1['X Location (m)'], sigmaz_1['Normal Stress (Pa)'], '-', label='0.01')\n",
        "plt.plot(sigmaz_2['X Location (m)'], sigmaz_2['Normal Stress (Pa)'], '--', label='0.001')\n",
        "plt.plot(sigmaz_3['X Location (m)'], sigmaz_3['Normal Stress (Pa)'], '-.', label='0.0005')\n",
        "plt.legend()\n",
        "plt.title(r\"Нормальное напряжение $\\sigma_z$\")\n",
        "plt.xlabel('x, м', fontsize=14)\n",
        "plt.ylabel(r'$\\sigma_z$, Па', fontsize=14)\n",
        "plt.xlim([0.1,0.2])\n",
        "plt.ticklabel_format(axis=\"y\", style=\"sci\", scilimits=(0,0))\n",
        "\n",
        "plt.subplot(2, 2, 4)\n",
        "plt.plot(sigmaxz_1['X Location (m)'], sigmaxz_1[2], '-', label='0.01')\n",
        "plt.plot(sigmaxz_2['X Location (m)'], sigmaxz_2[4], '--', label='0.001')\n",
        "plt.plot(sigmaxz_3['X Location (m)'], sigmaxz_3[6], '-.', label='0.0005')\n",
        "plt.legend()\n",
        "plt.title(r\"Тангенциальное напряжение $\\sigma_{xz}$\")\n",
        "plt.xlabel('x, м', fontsize=14)\n",
        "plt.ylabel(r'$\\sigma_{xz}$, Па', fontsize=14)\n",
        "plt.xlim([0.1,0.2])"
      ],
      "metadata": {
        "id": "k2iAHeB7MX02"
      },
      "execution_count": null,
      "outputs": []
    },
    {
      "cell_type": "code",
      "source": [
        "plt.plot(data[0], data[1], '-', label='0.01')\n",
        "plt.plot(data[2], data[3], '--', label='0.001')\n",
        "plt.plot(data[4], data[5], '-.', label='0.0005')\n",
        "plt.legend()"
      ],
      "metadata": {
        "id": "OTWMK19ZNYKx"
      },
      "execution_count": null,
      "outputs": []
    }
  ]
}